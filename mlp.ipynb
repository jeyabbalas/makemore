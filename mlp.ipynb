{
 "cells": [
  {
   "cell_type": "markdown",
   "source": [
    "[![Open In Colab](https://colab.research.google.com/assets/colab-badge.svg)](https://colab.research.google.com/github/jeyabbalas/makemore/blob/main/mlp.ipynb)\n",
    "\n",
    "# Makemore - MLP\n",
    "\n",
    "![MLP architecture](/images/mlp_bengio03.png)\n",
    "\n",
    "- This implementation is based on [(Bengio et al., 2003)](https://www.jmlr.org/papers/volume3/bengio03a/bengio03a.pdf). While it was not the first paper to propose MLP to predict the next token in a sequence, it was one of the most influential.\n",
    "    - **Embedding**: embed each of the ~17,000 words in the vocabulary into a 30-D continuous feature space. Initially, the words are embedded randomly. Then the embedding weights are learned during training. After training, words with similar meanings end up closer in the embedding space and words with dissimilar meanings move apart. The embedding look-up table `C` is a `17,000 x 30` matrix. Each row is a 30-D vector representing a word in the vocabulary.\n",
    "    - **Model**: an MLP to predict the next word in the sequence, given 3 previous words. Each word is a 30-D vector, so the input is a 90-D vector. Each tanh-neuron in the hidden layer is fully-connected to the 90 input neurons. The output layer has 17,000 neurons, fully-connected to the hidden layer neurons.\n",
    "    - **Loss**: maximize the log-likelihood of the training dataset or minimize the average negative log-likelihood.\n",
    "    - **Optimization**: both the embedding and the network parameters are learned using back-propagation.\n",
    "- **Why does it work?**: even if during inference, you encounter sentences you have never seen in the training dataset, you can still look for semantically similar sentences in the training dataset and use them to predict the next word. This is why good embeddings are important.\n"
   ],
   "metadata": {
    "collapsed": false
   }
  },
  {
   "cell_type": "code",
   "execution_count": 1,
   "metadata": {
    "collapsed": true,
    "ExecuteTime": {
     "end_time": "2023-07-29T05:22:56.908214Z",
     "start_time": "2023-07-29T05:22:54.934897Z"
    }
   },
   "outputs": [],
   "source": [
    "import torch\n",
    "import torch.nn.functional as F\n",
    "import matplotlib.pyplot as plt\n",
    "\n",
    "import requests\n",
    "\n",
    "seed = 1234"
   ]
  },
  {
   "cell_type": "markdown",
   "source": [
    "## Examine and prepare the training dataset"
   ],
   "metadata": {
    "collapsed": false
   }
  },
  {
   "cell_type": "code",
   "execution_count": 2,
   "outputs": [
    {
     "name": "stdout",
     "output_type": "stream",
     "text": [
      "['emma', 'olivia', 'ava', 'isabella', 'sophia', 'charlotte', 'mia', 'amelia', 'harper', 'evelyn']\n",
      "Total number of names: 32,033\n"
     ]
    }
   ],
   "source": [
    "url = \"https://raw.githubusercontent.com/jeyabbalas/makemore/main/names.txt\"\n",
    "names = requests.get(url).text.split(\"\\n\")\n",
    "\n",
    "print(names[:10])\n",
    "print(f\"Total number of names: {len(names):,}\")"
   ],
   "metadata": {
    "collapsed": false,
    "ExecuteTime": {
     "end_time": "2023-07-29T05:22:57.078119Z",
     "start_time": "2023-07-29T05:22:56.911191Z"
    }
   }
  },
  {
   "cell_type": "code",
   "execution_count": 3,
   "outputs": [
    {
     "data": {
      "text/plain": "['.',\n 'a',\n 'b',\n 'c',\n 'd',\n 'e',\n 'f',\n 'g',\n 'h',\n 'i',\n 'j',\n 'k',\n 'l',\n 'm',\n 'n',\n 'o',\n 'p',\n 'q',\n 'r',\n 's',\n 't',\n 'u',\n 'v',\n 'w',\n 'x',\n 'y',\n 'z']"
     },
     "execution_count": 3,
     "metadata": {},
     "output_type": "execute_result"
    }
   ],
   "source": [
    "vocab = [\".\"] + sorted(set([char for name in names for char in name]))\n",
    "char_to_ix = {char: ix for ix, char in enumerate(vocab)}\n",
    "ix_to_char = {ix: char for ix, char in enumerate(vocab)}\n",
    "vocab"
   ],
   "metadata": {
    "collapsed": false,
    "ExecuteTime": {
     "end_time": "2023-07-29T05:22:57.095953Z",
     "start_time": "2023-07-29T05:22:57.091799Z"
    }
   }
  },
  {
   "cell_type": "code",
   "execution_count": 4,
   "outputs": [
    {
     "name": "stdout",
     "output_type": "stream",
     "text": [
      "------------\n",
      "emma\n",
      "------------\n",
      "... → e\n",
      "..e → m\n",
      ".em → m\n",
      "emm → a\n",
      "mma → .\n",
      "------------\n",
      "olivia\n",
      "------------\n",
      "... → o\n",
      "..o → l\n",
      ".ol → i\n",
      "oli → v\n",
      "liv → i\n",
      "ivi → a\n",
      "via → .\n",
      "------------\n",
      "ava\n",
      "------------\n",
      "... → a\n",
      "..a → v\n",
      ".av → a\n",
      "ava → .\n",
      "------------\n",
      "isabella\n",
      "------------\n",
      "... → i\n",
      "..i → s\n",
      ".is → a\n",
      "isa → b\n",
      "sab → e\n",
      "abe → l\n",
      "bel → l\n",
      "ell → a\n",
      "lla → .\n",
      "------------\n",
      "sophia\n",
      "------------\n",
      "... → s\n",
      "..s → o\n",
      ".so → p\n",
      "sop → h\n",
      "oph → i\n",
      "phi → a\n",
      "hia → .\n",
      "===============\n",
      "torch.Size([32, 3])\n",
      "torch.Size([32])\n"
     ]
    }
   ],
   "source": [
    "X, Y = [], []\n",
    "block_size = 3  # context length: how many characters do we look back?\n",
    "\n",
    "for name in names[:5]:\n",
    "    print(\"------------\")\n",
    "    print(name)\n",
    "    print(\"------------\")\n",
    "    context = [0] * block_size\n",
    "    for char in name + \".\":\n",
    "        X.append(context)\n",
    "        ix = char_to_ix[char]\n",
    "        Y.append(ix)\n",
    "        print(''.join(ix_to_char[ix] for ix in context), \"→\", char)\n",
    "        context = context[1:] + [ix]  # slide the window\n",
    "\n",
    "print(\"===============\")\n",
    "X = torch.tensor(X)\n",
    "Y = torch.tensor(Y)\n",
    "\n",
    "print(X.shape)\n",
    "print(Y.shape)"
   ],
   "metadata": {
    "collapsed": false,
    "ExecuteTime": {
     "end_time": "2023-07-29T05:22:57.150326Z",
     "start_time": "2023-07-29T05:22:57.095023Z"
    }
   }
  },
  {
   "cell_type": "markdown",
   "source": [
    "## Build the MLP\n",
    "### Embedding layer\n",
    "- In the paper, `C` was a `17,000 x 30` matrix. Each row was a 30-D vector representing one of the 17,000 words in the vocabulary.\n",
    "- In this implementation, `C` will be a `27 x 2` matrix. Each row is a 2-D vector representing one of the 27 (26 alphabet + 1 special token) characters in the vocabulary.\n",
    "- A look-up table is technically a weights matrix that takes a one-hot encoded vector (27-D) as input and returns a row (2-D) from the weights matrix. This layer has no nonlinearity. We won't one-hot encode the characters here. We will instead index a specific row in the look-up table with an integer representation of the character."
   ],
   "metadata": {
    "collapsed": false
   }
  },
  {
   "cell_type": "code",
   "execution_count": 5,
   "outputs": [],
   "source": [
    "# hyperparameter\n",
    "embed_dim = 2\n",
    "\n",
    "# parameters\n",
    "rng = torch.Generator().manual_seed(seed)\n",
    "C = torch.randn(len(vocab), embed_dim, generator=rng)"
   ],
   "metadata": {
    "collapsed": false,
    "ExecuteTime": {
     "end_time": "2023-07-29T05:22:57.150752Z",
     "start_time": "2023-07-29T05:22:57.106632Z"
    }
   }
  },
  {
   "cell_type": "code",
   "execution_count": 6,
   "outputs": [
    {
     "name": "stdout",
     "output_type": "stream",
     "text": [
      "C[X].shape=torch.Size([32, 3, 2])\n",
      "C[X][1,2]=tensor([-0.7584, -0.3689])\n",
      "C[X[1,2].item()]=tensor([-0.7584, -0.3689])\n"
     ]
    }
   ],
   "source": [
    "# 2-D embedding for each character (2nd index) in each example (1st index) in X\n",
    "print(f\"{C[X].shape=}\")\n",
    "# 2-D embedding for the 3rd character in the second example in X\n",
    "print(f\"{C[X][1,2]=}\")\n",
    "# look-up the embedding for the 3rd character in the second example in X\n",
    "print(f\"{C[X[1,2].item()]=}\")"
   ],
   "metadata": {
    "collapsed": false,
    "ExecuteTime": {
     "end_time": "2023-07-29T05:22:57.151074Z",
     "start_time": "2023-07-29T05:22:57.111282Z"
    }
   }
  },
  {
   "cell_type": "code",
   "execution_count": 7,
   "outputs": [
    {
     "name": "stdout",
     "output_type": "stream",
     "text": [
      "torch.Size([32, 3, 2])\n"
     ]
    }
   ],
   "source": [
    "embed = C[X]  # embed each character in each example\n",
    "print(embed.shape)"
   ],
   "metadata": {
    "collapsed": false,
    "ExecuteTime": {
     "end_time": "2023-07-29T05:22:57.151218Z",
     "start_time": "2023-07-29T05:22:57.117916Z"
    }
   }
  },
  {
   "cell_type": "code",
   "execution_count": 8,
   "outputs": [
    {
     "data": {
      "text/plain": "True"
     },
     "execution_count": 8,
     "metadata": {},
     "output_type": "execute_result"
    }
   ],
   "source": [
    "# concatenate the three characters in each example\n",
    "# .view() is more efficient than unbind (creates a lot of new memory)\n",
    "all( \n",
    "    ((embed.view(-1, block_size * embed_dim) == torch.cat(torch.unbind(embed, dim=1), dim=1))).tolist() \n",
    ")"
   ],
   "metadata": {
    "collapsed": false,
    "ExecuteTime": {
     "end_time": "2023-07-29T05:22:57.151550Z",
     "start_time": "2023-07-29T05:22:57.122980Z"
    }
   }
  },
  {
   "cell_type": "code",
   "execution_count": 9,
   "outputs": [
    {
     "data": {
      "text/plain": "torch.Size([32, 6])"
     },
     "execution_count": 9,
     "metadata": {},
     "output_type": "execute_result"
    }
   ],
   "source": [
    "# forward pass: embedding layer\n",
    "embed = C[X]\n",
    "embed.view(-1, block_size * embed_dim).shape"
   ],
   "metadata": {
    "collapsed": false,
    "ExecuteTime": {
     "end_time": "2023-07-29T05:22:57.151746Z",
     "start_time": "2023-07-29T05:22:57.129860Z"
    }
   }
  },
  {
   "cell_type": "markdown",
   "source": [
    "### Hidden layer"
   ],
   "metadata": {
    "collapsed": false
   }
  },
  {
   "cell_type": "code",
   "execution_count": 10,
   "outputs": [],
   "source": [
    "# hyperparameter\n",
    "hidden_units = 100\n",
    "\n",
    "# parameters\n",
    "W1 = torch.randn(embed_dim * block_size, hidden_units, generator=rng)\n",
    "b1 = torch.randn(hidden_units, generator=rng)"
   ],
   "metadata": {
    "collapsed": false,
    "ExecuteTime": {
     "end_time": "2023-07-29T05:22:57.151824Z",
     "start_time": "2023-07-29T05:22:57.135064Z"
    }
   }
  },
  {
   "cell_type": "code",
   "execution_count": 11,
   "outputs": [],
   "source": [
    "# forward pass: hidden layer\n",
    "h = torch.tanh(embed.view(-1, block_size * embed_dim) @ W1 + b1)"
   ],
   "metadata": {
    "collapsed": false,
    "ExecuteTime": {
     "end_time": "2023-07-29T05:22:57.153654Z",
     "start_time": "2023-07-29T05:22:57.139117Z"
    }
   }
  },
  {
   "cell_type": "code",
   "execution_count": 12,
   "outputs": [
    {
     "name": "stdout",
     "output_type": "stream",
     "text": [
      "Embed shape: torch.Size([32, 6])\n",
      "W1 shape: torch.Size([6, 100])\n",
      "b1 shape: torch.Size([100])\n",
      "h shape: torch.Size([32, 100])\n"
     ]
    }
   ],
   "source": [
    "print(f\"Embed shape: {embed.view(-1, block_size * embed_dim).shape}\")\n",
    "print(f\"W1 shape: {W1.shape}\")\n",
    "print(f\"b1 shape: {b1.shape}\")\n",
    "print(f\"h shape: {h.shape}\")"
   ],
   "metadata": {
    "collapsed": false,
    "ExecuteTime": {
     "end_time": "2023-07-29T05:22:57.153852Z",
     "start_time": "2023-07-29T05:22:57.144964Z"
    }
   }
  },
  {
   "cell_type": "markdown",
   "source": [
    "### Output layer"
   ],
   "metadata": {
    "collapsed": false
   }
  },
  {
   "cell_type": "code",
   "execution_count": 13,
   "outputs": [],
   "source": [
    "# parameters\n",
    "W2 = torch.randn(hidden_units, len(vocab), generator=rng)\n",
    "b2 = torch.randn(len(vocab), generator=rng)"
   ],
   "metadata": {
    "collapsed": false,
    "ExecuteTime": {
     "end_time": "2023-07-29T05:22:57.198003Z",
     "start_time": "2023-07-29T05:22:57.149941Z"
    }
   }
  },
  {
   "cell_type": "code",
   "execution_count": 14,
   "outputs": [],
   "source": [
    "# forward pass: output layer\n",
    "logits = h @ W2 + b2\n",
    "counts = logits.exp()\n",
    "probs = counts / counts.sum(dim=1, keepdim=True)"
   ],
   "metadata": {
    "collapsed": false,
    "ExecuteTime": {
     "end_time": "2023-07-29T05:22:57.279812Z",
     "start_time": "2023-07-29T05:22:57.159513Z"
    }
   }
  },
  {
   "cell_type": "code",
   "execution_count": 15,
   "outputs": [
    {
     "data": {
      "text/plain": "torch.Size([32, 27])"
     },
     "execution_count": 15,
     "metadata": {},
     "output_type": "execute_result"
    }
   ],
   "source": [
    "probs.shape"
   ],
   "metadata": {
    "collapsed": false,
    "ExecuteTime": {
     "end_time": "2023-07-29T05:22:57.283491Z",
     "start_time": "2023-07-29T05:22:57.163888Z"
    }
   }
  },
  {
   "cell_type": "markdown",
   "source": [
    "### Loss"
   ],
   "metadata": {
    "collapsed": false
   }
  },
  {
   "cell_type": "code",
   "execution_count": 16,
   "outputs": [
    {
     "data": {
      "text/plain": "tensor([2.4672e-09, 6.2565e-04, 2.6399e-04, 2.7451e-03, 3.2293e-05, 1.1899e-10,\n        3.7154e-10, 1.1247e-07, 5.5625e-02, 7.2657e-16, 1.5718e-10, 1.5816e-09,\n        6.5158e-06, 9.9956e-01, 3.4876e-12, 9.1026e-11, 6.7603e-11, 2.0001e-11,\n        3.0226e-02, 2.4337e-08, 9.3356e-14, 1.6107e-07, 1.9127e-07, 1.0729e-10,\n        4.3252e-10, 3.5478e-09, 6.1315e-04, 4.4653e-10, 1.8246e-04, 1.9381e-08,\n        2.1678e-11, 2.1775e-08])"
     },
     "execution_count": 16,
     "metadata": {},
     "output_type": "execute_result"
    }
   ],
   "source": [
    "# predicted probabilities for the correct class\n",
    "probs[torch.arange(len(Y)), Y]"
   ],
   "metadata": {
    "collapsed": false,
    "ExecuteTime": {
     "end_time": "2023-07-29T05:22:57.283803Z",
     "start_time": "2023-07-29T05:22:57.168829Z"
    }
   }
  },
  {
   "cell_type": "code",
   "execution_count": 17,
   "outputs": [
    {
     "data": {
      "text/plain": "tensor(17.0604)"
     },
     "execution_count": 17,
     "metadata": {},
     "output_type": "execute_result"
    }
   ],
   "source": [
    "# average negative log-likelihood\n",
    "loss = -probs[torch.arange(len(Y)), Y].log().mean()\n",
    "loss"
   ],
   "metadata": {
    "collapsed": false,
    "ExecuteTime": {
     "end_time": "2023-07-29T05:22:57.283991Z",
     "start_time": "2023-07-29T05:22:57.173346Z"
    }
   }
  },
  {
   "cell_type": "code",
   "execution_count": 18,
   "outputs": [
    {
     "data": {
      "text/plain": "tensor(17.0604)"
     },
     "execution_count": 18,
     "metadata": {},
     "output_type": "execute_result"
    }
   ],
   "source": [
    "# shortcut: cross-entropy loss\n",
    "# counts = logits.exp()\n",
    "# probs = counts / counts.sum(dim=1, keepdim=True)\n",
    "# loss = -probs[torch.arange(len(Y)), Y].log().mean()\n",
    "loss = F.cross_entropy(logits, Y)\n",
    "loss"
   ],
   "metadata": {
    "collapsed": false,
    "ExecuteTime": {
     "end_time": "2023-07-29T05:22:57.284173Z",
     "start_time": "2023-07-29T05:22:57.181735Z"
    }
   }
  },
  {
   "cell_type": "markdown",
   "source": [
    "The above exercise:\n",
    "- Ensures that the loss function is implemented correctly i.e. the logits are to be fed into the cross entropy function (Karpathy's commandment #4).\n",
    "- Verifies loss at initialization (Karpathy's recipe 2.5)."
   ],
   "metadata": {
    "collapsed": false
   }
  },
  {
   "cell_type": "markdown",
   "source": [
    "### Optimization\n",
    "1. First, overfit on a single batch (Karpathy's commandment #1 and recipe 2.9). \n",
    "    - Fix a random seed for reproducibility (Karpathy's recipe 2.2). \n",
    "    - During overfitting, don't use any regularization (Karpathy's recipe 2.3). \n",
    "    - Make sure the loss converges. Remember to clear the gradients before invoking `.backward()` (Karpathy's commandment #3).\n",
    "    - Precisely estimate the loss on the entire dataset (Karpathy's recipe 2.4). \n",
    "2. Train on the entire training dataset over minibatches.\n",
    "3. Determining the learning rate.\n",
    "    - Fix the number of iterations to a small number. Print loss at each step.\n",
    "    - Find the lowest learning rate, where the loss is barely decreasing.\n",
    "    - Find the lowest learning rate, where the loss explodes or is unstable.\n",
    "    - Use `lrs = 10**torch.linspace(lowest_lr, highest_lr, num_steps)` to find a good learning rate.\n",
    "    - Iterate through `num_steps` different learning rates, run gradient descent on a minibatch, and store the loss at each step.\n",
    "    - Plot the loss vs. learning rate. The saddle-point is a good learning rate.\n",
    "4. Train on the entire training dataset over minibatches with the learning rate determined in the previous step. \n",
    "    - Set the number of epochs to as large as possible.\n",
    "    - Decay the learning rate by a factor of 10 when the loss plateaus.\n",
    "    - If you are overfitting: regularize, use data augmentation, use early stopping.\n",
    "    - If you are underfitting: scale up the model (including embedding dimension), more context length, train longer, tune learning rate and decay, tune batch size, use a different architecture."
   ],
   "metadata": {
    "collapsed": false
   }
  },
  {
   "cell_type": "code",
   "execution_count": 19,
   "outputs": [],
   "source": [
    "# Cross-validation dataset\n",
    "import random\n",
    "random.seed(seed)\n",
    "\n",
    "def build_dataset(words, block_size=3):\n",
    "    X, Y = [], []\n",
    "    \n",
    "    for word in words:\n",
    "        context = [0] * block_size\n",
    "        for char in word + \".\":\n",
    "            X.append(context)\n",
    "            ix = char_to_ix[char]\n",
    "            Y.append(ix)\n",
    "            context = context[1:] + [ix]\n",
    "\n",
    "    X = torch.tensor(X)\n",
    "    Y = torch.tensor(Y)\n",
    "    \n",
    "    return X, Y"
   ],
   "metadata": {
    "collapsed": false,
    "ExecuteTime": {
     "end_time": "2023-07-29T05:22:57.284263Z",
     "start_time": "2023-07-29T05:22:57.187536Z"
    }
   }
  },
  {
   "cell_type": "code",
   "execution_count": 20,
   "outputs": [
    {
     "name": "stdout",
     "output_type": "stream",
     "text": [
      "X_train.shape=torch.Size([182542, 3]), Y_train.shape=torch.Size([182542])\n",
      "X_val.shape=torch.Size([22823, 3]), Y_val.shape=torch.Size([22823])\n",
      "X_test.shape=torch.Size([22781, 3]), Y_test.shape=torch.Size([22781])\n"
     ]
    }
   ],
   "source": [
    "random.shuffle(names)\n",
    "\n",
    "train_names = names[:int(0.8 * len(names))]\n",
    "val_names = names[int(0.8 * len(names)):int(0.9 * len(names))]\n",
    "test_names = names[int(0.9 * len(names)):]\n",
    "\n",
    "X_train, Y_train = build_dataset(train_names)\n",
    "X_val, Y_val = build_dataset(val_names)\n",
    "X_test, Y_test = build_dataset(test_names)\n",
    "\n",
    "print(f\"{X_train.shape=}, {Y_train.shape=}\")\n",
    "print(f\"{X_val.shape=}, {Y_val.shape=}\")\n",
    "print(f\"{X_test.shape=}, {Y_test.shape=}\")"
   ],
   "metadata": {
    "collapsed": false,
    "ExecuteTime": {
     "end_time": "2023-07-29T05:22:57.715838Z",
     "start_time": "2023-07-29T05:22:57.297247Z"
    }
   }
  },
  {
   "cell_type": "code",
   "execution_count": 21,
   "outputs": [
    {
     "name": "stdout",
     "output_type": "stream",
     "text": [
      "Total number of parameters in the MLP: 10,281\n"
     ]
    }
   ],
   "source": [
    "# Model definition\n",
    "rng = torch.Generator().manual_seed(seed)\n",
    "\n",
    "## Hyperparameters\n",
    "block_size = 3\n",
    "embed_dim = 2\n",
    "hidden_units = 300\n",
    "\n",
    "## Parameters\n",
    "### Embedding layer\n",
    "C = torch.randn(len(vocab), embed_dim, generator=rng, requires_grad=True)\n",
    "### Hidden layer\n",
    "W1 = torch.randn(embed_dim * block_size, hidden_units, generator=rng, requires_grad=True)\n",
    "b1 = torch.randn(hidden_units, generator=rng, requires_grad=True)\n",
    "### Output layer\n",
    "W2 = torch.randn(hidden_units, len(vocab), generator=rng, requires_grad=True)\n",
    "b2 = torch.randn(len(vocab), generator=rng, requires_grad=True)\n",
    "\n",
    "parameters = [C, W1, b1, W2, b2]\n",
    "print(f\"Total number of parameters in the MLP: {sum(p.numel() for p in parameters):,}\")"
   ],
   "metadata": {
    "collapsed": false,
    "ExecuteTime": {
     "end_time": "2023-07-29T05:22:57.720438Z",
     "start_time": "2023-07-29T05:22:57.713970Z"
    }
   }
  },
  {
   "cell_type": "code",
   "execution_count": 22,
   "outputs": [
    {
     "data": {
      "text/plain": "[<matplotlib.lines.Line2D at 0x11d02ab90>]"
     },
     "execution_count": 22,
     "metadata": {},
     "output_type": "execute_result"
    },
    {
     "data": {
      "text/plain": "<Figure size 640x480 with 1 Axes>",
      "image/png": "[encoded data removed]"
     },
     "metadata": {},
     "output_type": "display_data"
    }
   ],
   "source": [
    "# Determining a good learning rate\n",
    "num_steps = 1_000\n",
    "learning_rates = 10**torch.linspace(-3, 0, num_steps)\n",
    "batch_size = 32\n",
    "\n",
    "learning_rate_i = []\n",
    "loss_i = []\n",
    "\n",
    "for i in range(num_steps):\n",
    "    # Minibatch\n",
    "    idx_batch = torch.randint(0, len(X_train), (batch_size,))\n",
    "\n",
    "    # Forward pass\n",
    "    embed = C[X_train[idx_batch]]  # (num_examples, block_size, embed_dim)\n",
    "    h = torch.tanh(embed.view(-1, block_size * embed_dim) @ W1 + b1)  # (num_examples, hidden_units)\n",
    "    logits = h @ W2 + b2\n",
    "    loss = F.cross_entropy(logits, Y_train[idx_batch])\n",
    "\n",
    "    # Backward pass\n",
    "    for p in parameters:\n",
    "        p.grad = None\n",
    "    loss.backward()\n",
    "\n",
    "    # Gradient update\n",
    "    learning_rate = learning_rates[i]\n",
    "    for p in parameters:\n",
    "        p.data -= learning_rate * p.grad\n",
    "    \n",
    "    # Track learning rate performance\n",
    "    learning_rate_i.append(learning_rate.log10().item())\n",
    "    loss_i.append(loss.item())\n",
    "\n",
    "plt.plot(learning_rate_i, loss_i)"
   ],
   "metadata": {
    "collapsed": false,
    "ExecuteTime": {
     "end_time": "2023-07-29T05:22:58.296845Z",
     "start_time": "2023-07-29T05:22:57.723947Z"
    }
   }
  },
  {
   "cell_type": "code",
   "execution_count": 23,
   "outputs": [
    {
     "name": "stdout",
     "output_type": "stream",
     "text": [
      "Total number of parameters in the MLP: 10,281\n"
     ]
    }
   ],
   "source": [
    "# Model definition\n",
    "rng = torch.Generator().manual_seed(seed)\n",
    "\n",
    "## Parameters\n",
    "### Embedding layer\n",
    "C = torch.randn(len(vocab), embed_dim, generator=rng, requires_grad=True)\n",
    "### Hidden layer\n",
    "W1 = torch.randn(embed_dim * block_size, hidden_units, generator=rng, requires_grad=True)\n",
    "b1 = torch.randn(hidden_units, generator=rng, requires_grad=True)\n",
    "### Output layer\n",
    "W2 = torch.randn(hidden_units, len(vocab), generator=rng, requires_grad=True)\n",
    "b2 = torch.randn(len(vocab), generator=rng, requires_grad=True)\n",
    "\n",
    "parameters = [C, W1, b1, W2, b2]\n",
    "print(f\"Total number of parameters in the MLP: {sum(p.numel() for p in parameters):,}\")"
   ],
   "metadata": {
    "collapsed": false,
    "ExecuteTime": {
     "end_time": "2023-07-29T05:22:58.302823Z",
     "start_time": "2023-07-29T05:22:58.298239Z"
    }
   }
  },
  {
   "cell_type": "code",
   "execution_count": 24,
   "outputs": [
    {
     "name": "stdout",
     "output_type": "stream",
     "text": [
      "1: 25.9933\n",
      "10001: 2.2169\n",
      "20001: 2.3954\n",
      "30001: 2.5147\n",
      "40001: 2.3942\n",
      "50001: 2.4288\n",
      "60001: 2.3938\n",
      "70001: 2.4337\n",
      "80001: 2.4849\n",
      "90001: 2.3005\n"
     ]
    },
    {
     "data": {
      "text/plain": "[<matplotlib.lines.Line2D at 0x11bb52410>]"
     },
     "execution_count": 24,
     "metadata": {},
     "output_type": "execute_result"
    },
    {
     "data": {
      "text/plain": "<Figure size 640x480 with 1 Axes>",
      "image/png": "[encoded data removed]"
     },
     "metadata": {},
     "output_type": "display_data"
    }
   ],
   "source": [
    "learning_rate = 10**-1.5\n",
    "batch_size = 32\n",
    "\n",
    "iter_i = []\n",
    "loss_train_i = []\n",
    "\n",
    "for i in range(100_000):\n",
    "    # Minibatch\n",
    "    idx_batch = torch.randint(0, len(X_train), (batch_size,))\n",
    "\n",
    "    # Forward pass\n",
    "    embed = C[X_train[idx_batch]]  # (num_examples, block_size, embed_dim)\n",
    "    h = torch.tanh(embed.view(-1, block_size * embed_dim) @ W1 + b1)  # (num_examples, hidden_units)\n",
    "    logits = h @ W2 + b2\n",
    "    loss = F.cross_entropy(logits, Y_train[idx_batch])\n",
    "    if i % 10_000 == 0:\n",
    "        print(f\"{i+1}: {loss.item():.4f}\")\n",
    "\n",
    "    # Backward pass\n",
    "    for p in parameters:\n",
    "        p.grad = None\n",
    "    loss.backward()\n",
    "\n",
    "    # Gradient update\n",
    "    # decrease learning rate by a factor of 10 after every 50_000 steps\n",
    "    # if i % 40_000 == 0:\n",
    "    #     learning_rate /= 10\n",
    "    for p in parameters:\n",
    "        p.data -= learning_rate * p.grad\n",
    "    \n",
    "    # Track performance\n",
    "    iter_i.append(i)\n",
    "    loss_train_i.append(loss.log10().item())\n",
    "\n",
    "# Plot convergence\n",
    "plt.plot(iter_i, loss_train_i, label=\"train\")"
   ],
   "metadata": {
    "collapsed": false,
    "ExecuteTime": {
     "end_time": "2023-07-29T05:23:40.544724Z",
     "start_time": "2023-07-29T05:22:58.304599Z"
    }
   }
  },
  {
   "cell_type": "code",
   "execution_count": 25,
   "outputs": [
    {
     "name": "stdout",
     "output_type": "stream",
     "text": [
      "Train set loss: 2.3803\n"
     ]
    }
   ],
   "source": [
    "# Train set loss\n",
    "embed = C[X_train]\n",
    "h = torch.tanh(embed.view(-1, block_size * embed_dim) @ W1 + b1)\n",
    "logits = h @ W2 + b2\n",
    "loss = F.cross_entropy(logits, Y_train)\n",
    "print(f\"Train set loss: {loss.item():.4f}\")"
   ],
   "metadata": {
    "collapsed": false,
    "ExecuteTime": {
     "end_time": "2023-07-29T05:23:40.912736Z",
     "start_time": "2023-07-29T05:23:40.544272Z"
    }
   }
  },
  {
   "cell_type": "code",
   "execution_count": 26,
   "outputs": [
    {
     "name": "stdout",
     "output_type": "stream",
     "text": [
      "Validation set loss: 2.3817\n"
     ]
    }
   ],
   "source": [
    "# Validation set loss\n",
    "embed = C[X_val]\n",
    "h = torch.tanh(embed.view(-1, block_size * embed_dim) @ W1 + b1)\n",
    "logits = h @ W2 + b2\n",
    "loss_val = F.cross_entropy(logits, Y_val)\n",
    "print(f\"Validation set loss: {loss_val.item():.4f}\")"
   ],
   "metadata": {
    "collapsed": false,
    "ExecuteTime": {
     "end_time": "2023-07-29T05:23:40.965580Z",
     "start_time": "2023-07-29T05:23:40.913148Z"
    }
   }
  },
  {
   "cell_type": "code",
   "execution_count": 27,
   "outputs": [
    {
     "data": {
      "text/plain": "<Figure size 1000x1000 with 1 Axes>",
      "image/png": "[encoded data removed]"
     },
     "metadata": {},
     "output_type": "display_data"
    }
   ],
   "source": [
    "# Visualize embeddings\n",
    "plt.figure(figsize=(10, 10))\n",
    "plt.scatter(C[:, 0].data, C[:, 1].data, alpha=0.5, s=200)\n",
    "for i, c in enumerate(vocab):\n",
    "    plt.text(C[i, 0].item(), C[i, 1].item(), c, ha='center', va='center', color='white')\n",
    "plt.grid('minor')"
   ],
   "metadata": {
    "collapsed": false,
    "ExecuteTime": {
     "end_time": "2023-07-29T05:23:41.178339Z",
     "start_time": "2023-07-29T05:23:40.962953Z"
    }
   }
  },
  {
   "cell_type": "markdown",
   "source": [
    "The vowels cluster together. `.` is isolated and far from the rest. The embeddings are clearly not random."
   ],
   "metadata": {
    "collapsed": false
   }
  },
  {
   "cell_type": "code",
   "execution_count": 28,
   "outputs": [
    {
     "name": "stdout",
     "output_type": "stream",
     "text": [
      "Total number of parameters in the MLP: 68,327\n"
     ]
    }
   ],
   "source": [
    "# Scale up embeddings\n",
    "# Model definition\n",
    "rng = torch.Generator().manual_seed(seed)\n",
    "\n",
    "## Hyperparameters\n",
    "block_size = 3\n",
    "embed_dim = 100\n",
    "hidden_units = 200\n",
    "\n",
    "## Parameters\n",
    "### Embedding layer\n",
    "C = torch.randn(len(vocab), embed_dim, generator=rng, requires_grad=True)\n",
    "### Hidden layer\n",
    "W1 = torch.randn(embed_dim * block_size, hidden_units, generator=rng, requires_grad=True)\n",
    "b1 = torch.randn(hidden_units, generator=rng, requires_grad=True)\n",
    "### Output layer\n",
    "W2 = torch.randn(hidden_units, len(vocab), generator=rng, requires_grad=True)\n",
    "b2 = torch.randn(len(vocab), generator=rng, requires_grad=True)\n",
    "\n",
    "parameters = [C, W1, b1, W2, b2]\n",
    "print(f\"Total number of parameters in the MLP: {sum(p.numel() for p in parameters):,}\")"
   ],
   "metadata": {
    "collapsed": false,
    "ExecuteTime": {
     "end_time": "2023-07-29T05:23:41.184263Z",
     "start_time": "2023-07-29T05:23:41.177871Z"
    }
   }
  },
  {
   "cell_type": "code",
   "execution_count": 29,
   "outputs": [
    {
     "data": {
      "text/plain": "[<matplotlib.lines.Line2D at 0x11f34a050>]"
     },
     "execution_count": 29,
     "metadata": {},
     "output_type": "execute_result"
    },
    {
     "data": {
      "text/plain": "<Figure size 640x480 with 1 Axes>",
      "image/png": "[encoded data removed]"
     },
     "metadata": {},
     "output_type": "display_data"
    }
   ],
   "source": [
    "# Determining a good learning rate\n",
    "num_steps = 1_000\n",
    "learning_rates = 10**torch.linspace(-3, 0, num_steps)\n",
    "batch_size = 32\n",
    "\n",
    "learning_rate_i = []\n",
    "loss_i = []\n",
    "\n",
    "for i in range(num_steps):\n",
    "    # Minibatch\n",
    "    idx_batch = torch.randint(0, len(X_train), (batch_size,))\n",
    "\n",
    "    # Forward pass\n",
    "    embed = C[X_train[idx_batch]]  # (num_examples, block_size, embed_dim)\n",
    "    h = torch.tanh(embed.view(-1, block_size * embed_dim) @ W1 + b1)  # (num_examples, hidden_units)\n",
    "    logits = h @ W2 + b2\n",
    "    loss = F.cross_entropy(logits, Y_train[idx_batch])\n",
    "\n",
    "    # Backward pass\n",
    "    for p in parameters:\n",
    "        p.grad = None\n",
    "    loss.backward()\n",
    "\n",
    "    # Gradient update\n",
    "    learning_rate = learning_rates[i]\n",
    "    for p in parameters:\n",
    "        p.data -= learning_rate * p.grad\n",
    "    \n",
    "    # Track learning rate performance\n",
    "    learning_rate_i.append(learning_rate.log10().item())\n",
    "    loss_i.append(loss.item())\n",
    "\n",
    "plt.plot(learning_rate_i, loss_i)"
   ],
   "metadata": {
    "collapsed": false,
    "ExecuteTime": {
     "end_time": "2023-07-29T05:23:42.016932Z",
     "start_time": "2023-07-29T05:23:41.185845Z"
    }
   }
  },
  {
   "cell_type": "code",
   "execution_count": 30,
   "outputs": [
    {
     "name": "stdout",
     "output_type": "stream",
     "text": [
      "Total number of parameters in the MLP: 68,327\n"
     ]
    }
   ],
   "source": [
    "# Model definition\n",
    "rng = torch.Generator().manual_seed(seed)\n",
    "\n",
    "## Parameters\n",
    "### Embedding layer\n",
    "C = torch.randn(len(vocab), embed_dim, generator=rng, requires_grad=True)\n",
    "### Hidden layer\n",
    "W1 = torch.randn(embed_dim * block_size, hidden_units, generator=rng, requires_grad=True)\n",
    "b1 = torch.randn(hidden_units, generator=rng, requires_grad=True)\n",
    "### Output layer\n",
    "W2 = torch.randn(hidden_units, len(vocab), generator=rng, requires_grad=True)\n",
    "b2 = torch.randn(len(vocab), generator=rng, requires_grad=True)\n",
    "\n",
    "parameters = [C, W1, b1, W2, b2]\n",
    "print(f\"Total number of parameters in the MLP: {sum(p.numel() for p in parameters):,}\")"
   ],
   "metadata": {
    "collapsed": false,
    "ExecuteTime": {
     "end_time": "2023-07-29T05:23:42.022296Z",
     "start_time": "2023-07-29T05:23:42.018567Z"
    }
   }
  },
  {
   "cell_type": "code",
   "execution_count": 31,
   "outputs": [
    {
     "name": "stdout",
     "output_type": "stream",
     "text": [
      "1: 28.4764\n",
      "10001: 3.8806\n",
      "20001: 3.1026\n",
      "30001: 3.4969\n",
      "40001: 2.7158\n",
      "50001: 2.7016\n",
      "60001: 2.5732\n",
      "70001: 2.1885\n",
      "80001: 2.3474\n",
      "90001: 2.5038\n",
      "100001: 3.7578\n",
      "110001: 1.9819\n",
      "120001: 1.6748\n",
      "130001: 1.8428\n",
      "140001: 2.1012\n",
      "150001: 2.2306\n",
      "160001: 2.0059\n",
      "170001: 2.2709\n",
      "180001: 2.0733\n",
      "190001: 2.1359\n"
     ]
    },
    {
     "data": {
      "text/plain": "[<matplotlib.lines.Line2D at 0x11f390cd0>]"
     },
     "execution_count": 31,
     "metadata": {},
     "output_type": "execute_result"
    },
    {
     "data": {
      "text/plain": "<Figure size 640x480 with 1 Axes>",
      "image/png": "[encoded data removed]"
     },
     "metadata": {},
     "output_type": "display_data"
    }
   ],
   "source": [
    "batch_size = 32\n",
    "\n",
    "iter_i = []\n",
    "loss_train_i = []\n",
    "\n",
    "for i in range(200_000):\n",
    "    # Minibatch\n",
    "    idx_batch = torch.randint(0, len(X_train), (batch_size,))\n",
    "\n",
    "    # Forward pass\n",
    "    embed = C[X_train[idx_batch]]  # (num_examples, block_size, embed_dim)\n",
    "    h = torch.tanh(embed.view(-1, block_size * embed_dim) @ W1 + b1)  # (num_examples, hidden_units)\n",
    "    logits = h @ W2 + b2\n",
    "    loss = F.cross_entropy(logits, Y_train[idx_batch])\n",
    "    if i % 10_000 == 0:\n",
    "        print(f\"{i+1}: {loss.item():.4f}\")\n",
    "\n",
    "    # Backward pass\n",
    "    for p in parameters:\n",
    "        p.grad = None\n",
    "    loss.backward()\n",
    "\n",
    "    # Gradient update\n",
    "    # decrease learning rate by a factor of 10 after every 50_000 steps\n",
    "    learning_rate = 10**-0.5 if i < 100_000 else 10**-1.5\n",
    "    for p in parameters:\n",
    "        p.data -= learning_rate * p.grad\n",
    "    \n",
    "    # Track performance\n",
    "    iter_i.append(i)\n",
    "    loss_train_i.append(loss.log10().item())\n",
    "\n",
    "# Plot convergence\n",
    "plt.plot(iter_i, loss_train_i, label=\"train\")"
   ],
   "metadata": {
    "collapsed": false,
    "ExecuteTime": {
     "end_time": "2023-07-29T05:25:54.717309Z",
     "start_time": "2023-07-29T05:23:42.028278Z"
    }
   }
  },
  {
   "cell_type": "code",
   "execution_count": 32,
   "outputs": [
    {
     "name": "stdout",
     "output_type": "stream",
     "text": [
      "Train set loss: 2.0769\n"
     ]
    }
   ],
   "source": [
    "# Train set loss\n",
    "embed = C[X_train]\n",
    "h = torch.tanh(embed.view(-1, block_size * embed_dim) @ W1 + b1)\n",
    "logits = h @ W2 + b2\n",
    "loss = F.cross_entropy(logits, Y_train)\n",
    "print(f\"Train set loss: {loss.item():.4f}\")"
   ],
   "metadata": {
    "collapsed": false,
    "ExecuteTime": {
     "end_time": "2023-07-29T05:25:55.446273Z",
     "start_time": "2023-07-29T05:25:54.719789Z"
    }
   }
  },
  {
   "cell_type": "code",
   "execution_count": 33,
   "outputs": [
    {
     "name": "stdout",
     "output_type": "stream",
     "text": [
      "Validation set loss: 2.1662\n"
     ]
    }
   ],
   "source": [
    "# Validation set loss\n",
    "embed = C[X_val]\n",
    "h = torch.tanh(embed.view(-1, block_size * embed_dim) @ W1 + b1)\n",
    "logits = h @ W2 + b2\n",
    "loss_val = F.cross_entropy(logits, Y_val)\n",
    "print(f\"Validation set loss: {loss_val.item():.4f}\")"
   ],
   "metadata": {
    "collapsed": false,
    "ExecuteTime": {
     "end_time": "2023-07-29T05:25:55.533615Z",
     "start_time": "2023-07-29T05:25:55.443881Z"
    }
   }
  },
  {
   "cell_type": "markdown",
   "source": [
    "## Sampling new names"
   ],
   "metadata": {
    "collapsed": false
   }
  },
  {
   "cell_type": "code",
   "execution_count": 34,
   "outputs": [
    {
     "name": "stdout",
     "output_type": "stream",
     "text": [
      "keon.\n",
      "prad.\n",
      "zil.\n",
      "jebie.\n",
      "dar.\n",
      "yatezzyia.\n",
      "treu.\n",
      "riyose.\n",
      "las.\n",
      "bowan.\n"
     ]
    }
   ],
   "source": [
    "rng = torch.Generator().manual_seed(seed)\n",
    "num_names = 10\n",
    "\n",
    "for _ in range(num_names):\n",
    "    name = []\n",
    "    context = [0] * block_size\n",
    "    while True:\n",
    "        embed = C[torch.tensor([context])]\n",
    "        h = torch.tanh(embed.view(-1, block_size * embed_dim) @ W1 + b1)\n",
    "        logits = h @ W2 + b2\n",
    "        probs = F.softmax(logits, dim=-1)\n",
    "        next_char_ix = torch.multinomial(probs[-1], num_samples=1, generator=rng).item()\n",
    "        context = context[1:] + [next_char_ix]\n",
    "        name.append(ix_to_char[next_char_ix])\n",
    "        if next_char_ix == 0:\n",
    "            break\n",
    "    print(\"\".join(name))"
   ],
   "metadata": {
    "collapsed": false,
    "ExecuteTime": {
     "end_time": "2023-07-29T05:25:55.548954Z",
     "start_time": "2023-07-29T05:25:55.531834Z"
    }
   }
  },
  {
   "cell_type": "code",
   "execution_count": 34,
   "outputs": [],
   "source": [],
   "metadata": {
    "collapsed": false,
    "ExecuteTime": {
     "end_time": "2023-07-29T05:25:55.553295Z",
     "start_time": "2023-07-29T05:25:55.548862Z"
    }
   }
  }
 ],
 "metadata": {
  "kernelspec": {
   "display_name": "Python 3",
   "language": "python",
   "name": "python3"
  },
  "language_info": {
   "codemirror_mode": {
    "name": "ipython",
    "version": 2
   },
   "file_extension": ".py",
   "mimetype": "text/x-python",
   "name": "python",
   "nbconvert_exporter": "python",
   "pygments_lexer": "ipython2",
   "version": "2.7.6"
  }
 },
 "nbformat": 4,
 "nbformat_minor": 0
}
